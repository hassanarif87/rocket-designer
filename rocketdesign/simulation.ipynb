{
 "cells": [
  {
   "cell_type": "code",
   "execution_count": null,
   "metadata": {},
   "outputs": [],
   "source": [
    "import numpy as np\n",
    "from scipy.integrate import solve_ivp\n",
    "\n",
    "from Simulation.SimObjects import Body, State, hit_ground\n",
    "from Simulation.postprocess import get_dataframe\n",
    "import plotly.express as px\n"
   ]
  },
  {
   "cell_type": "code",
   "execution_count": null,
   "metadata": {},
   "outputs": [],
   "source": [
    "t_end = 10\n",
    "t_eval = np.arange(0.0, t_end, 0.1)"
   ]
  },
  {
   "cell_type": "code",
   "execution_count": null,
   "metadata": {},
   "outputs": [],
   "source": [
    "state = State.zero_states()\n",
    "body = Body.default()\n",
    "state.vel_I = np.array([10,10,25])\n"
   ]
  },
  {
   "cell_type": "code",
   "execution_count": null,
   "metadata": {},
   "outputs": [],
   "source": [
    "outputs = solve_ivp(\n",
    "    fun=body.derivative,\n",
    "    t_span=(0,t_end),\n",
    "    y0=state.vector,\n",
    "    events=hit_ground,\n",
    "    t_eval=t_eval\n",
    "    )"
   ]
  },
  {
   "cell_type": "code",
   "execution_count": null,
   "metadata": {},
   "outputs": [],
   "source": [
    "df_results = get_dataframe(outputs.t, outputs.y ,state.get_tags)\n"
   ]
  },
  {
   "cell_type": "code",
   "execution_count": null,
   "metadata": {},
   "outputs": [],
   "source": [
    "fig = px.line(df_results, x=\"Time\", y=[f\"ang_vel_B_{i}\" for i in range(0,3)], title=\"Trajectory\")\n",
    "fig.show()"
   ]
  },
  {
   "cell_type": "code",
   "execution_count": null,
   "metadata": {},
   "outputs": [],
   "source": [
    "fig = px.line(df_results, x=\"Time\", y=[f\"e_xyz_IB_{i}\" for i in range(0,3)], title=\"Trajectory\")\n",
    "fig.show()\n"
   ]
  },
  {
   "cell_type": "code",
   "execution_count": null,
   "metadata": {},
   "outputs": [],
   "source": [
    "\n",
    "fig = px.line_3d(df_results, x=\"pos_0\", y=\"pos_1\", z =\"pos_2\", title=\"Trajectory\")\n",
    "fig.show()"
   ]
  },
  {
   "cell_type": "code",
   "execution_count": null,
   "metadata": {},
   "outputs": [],
   "source": []
  },
  {
   "cell_type": "code",
   "execution_count": null,
   "metadata": {},
   "outputs": [],
   "source": [
    "from scipy.spatial.transform import Rotation as R"
   ]
  },
  {
   "cell_type": "code",
   "execution_count": null,
   "metadata": {},
   "outputs": [],
   "source": []
  },
  {
   "cell_type": "code",
   "execution_count": null,
   "metadata": {},
   "outputs": [],
   "source": [
    "rot2 = R.from_euler('XYZ', [45,90,0], degrees=True)\n",
    "mat2= rot2.as_matrix().T"
   ]
  },
  {
   "cell_type": "code",
   "execution_count": null,
   "metadata": {},
   "outputs": [],
   "source": [
    "from utils.plotting import plot_axis"
   ]
  },
  {
   "cell_type": "code",
   "execution_count": null,
   "metadata": {},
   "outputs": [],
   "source": [
    "fig = plot_axis()\n",
    "fig = plot_axis(mat2, id=2, line_type='dash', fig=fig)\n",
    "\n",
    "fig.update_layout(\n",
    "    scene = dict(\n",
    "        aspectmode='cube', \n",
    "        xaxis = dict(nticks=4, range=[-2,2],),\n",
    "        yaxis = dict(nticks=4, range=[-2,2],),\n",
    "        zaxis = dict(nticks=4, range=[-2,2],),),\n",
    "    margin=dict(r=20, l=10, b=10, t=10))\n",
    "fig.show()"
   ]
  },
  {
   "cell_type": "code",
   "execution_count": null,
   "metadata": {},
   "outputs": [],
   "source": []
  },
  {
   "cell_type": "code",
   "execution_count": null,
   "metadata": {},
   "outputs": [],
   "source": []
  }
 ],
 "metadata": {
  "kernelspec": {
   "display_name": "Python 3 (ipykernel)",
   "language": "python",
   "name": "python3"
  },
  "language_info": {
   "codemirror_mode": {
    "name": "ipython",
    "version": 3
   },
   "file_extension": ".py",
   "mimetype": "text/x-python",
   "name": "python",
   "nbconvert_exporter": "python",
   "pygments_lexer": "ipython3",
   "version": "3.10.6"
  }
 },
 "nbformat": 4,
 "nbformat_minor": 4
}
